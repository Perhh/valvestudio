{
 "cells": [
  {
   "cell_type": "markdown",
   "metadata": {},
   "source": [
    "# Measuring inductance using a series resonance circuit"
   ]
  },
  {
   "cell_type": "markdown",
   "metadata": {},
   "source": [
    "<img src=\"notchSchematic.png\" width=\"35%\">\n",
    "\n",
    "$$\\frac{V_o}{V_i} = \\frac{(\\frac{1}{j \\omega C} + R_l + j \\omega L)}{R_s + (\\frac{1}{j \\omega C} + R_l + j \\omega L)}$$\n",
    "\n",
    "<br>\n",
    "<center>at resonance,</center>\n",
    "\n",
    "$$ \\left|\\frac{1}{j \\omega C}\\right| = \\left|j \\omega L\\right|$$\n",
    "\n",
    "$$\\omega = \\frac{1}{\\sqrt{L C}}$$\n",
    "\n",
    "$$L = \\frac{1}{\\omega^2  C}, \\omega = 2 \\pi f$$\n",
    "\n",
    "$$L = \\frac{1}{(2 \\pi f)^2 C}$$"
   ]
  },
  {
   "cell_type": "code",
   "execution_count": 10,
   "metadata": {
    "collapsed": false
   },
   "outputs": [
    {
     "name": "stdout",
     "output_type": "stream",
     "text": [
      "Expect  Voutmin=0.0098 at 159.15Hz\n",
      "Calculated Vout=0.0098 at 159.07Hz\n"
     ]
    },
    {
     "data": {
      "text/plain": [
       "<matplotlib.figure.Figure at 0xae4a3ccc>"
      ]
     },
     "metadata": {},
     "output_type": "display_data"
    },
    {
     "data": {
      "image/png": "[encoded data removed]",
      "text/plain": [
       "<matplotlib.figure.Figure at 0xae53018c>"
      ]
     },
     "metadata": {},
     "output_type": "display_data"
    }
   ],
   "source": [
    "%matplotlib inline\n",
    "\n",
    "from cmath import phase, pi\n",
    "from math import degrees,sqrt\n",
    "import matplotlib.pyplot as plt\n",
    "\n",
    "Rs = 39000\n",
    "C  = 0.1e-6\n",
    "L  = 10\n",
    "Rl = 384\n",
    "plotpoints = 5000\n",
    "\n",
    "def Vo(f, Vi = 1):\n",
    "    RLC = 1/(2*pi*f*C*1j) + Rl + (2*pi*f*L*1j)\n",
    "    return Vi * (RLC/(Rs+RLC))\n",
    "    \n",
    "frequencies = [ pow(10,4.0*i/plotpoints) for i in range(plotpoints)]\n",
    "mags = []\n",
    "phases = []\n",
    "\n",
    "fmin = 1\n",
    "magmin = 2\n",
    "\n",
    "for f in frequencies:\n",
    "    vo = Vo(f)\n",
    "    mag = abs(vo)\n",
    "    mags.append(mag)\n",
    "    phases.append(phase(vo))\n",
    "    if mag < magmin:\n",
    "        fmin = f\n",
    "        magmin = mag\n",
    "\n",
    "print \"Expect  Voutmin=%0.4f at %.2fHz\"%(float(Rl)/(Rl+Rs),1/(2*pi*sqrt(L*C)))\n",
    "print \"Calculated Vout=%0.4f at %.2fHz\"%(magmin,fmin)\n",
    "        \n",
    "plt.figure()\n",
    "plt.figure(figsize=(12, 6))\n",
    "plt.semilogx(frequencies,mags)\n",
    "plt.semilogx(frequencies,phases)\n",
    "plt.grid(True)\n",
    "plt.show()\n"
   ]
  },
  {
   "cell_type": "markdown",
   "metadata": {},
   "source": [
    "with $f_{resonance}$ and  C, calculate $L = \\frac{1}{(2 \\pi f)^2 C}$\n",
    "\n",
    "Put your values of f and C here to calculate your L"
   ]
  },
  {
   "cell_type": "code",
   "execution_count": 19,
   "metadata": {
    "collapsed": false
   },
   "outputs": [
    {
     "name": "stdout",
     "output_type": "stream",
     "text": [
      "L=9.8\n"
     ]
    }
   ],
   "source": [
    "f = 160.6\n",
    "C = 0.1e-6\n",
    "\n",
    "L = 1/(pow((2*pi*f),2)*C)\n",
    "print \"L=%0.1f\"%L"
   ]
  },
  {
   "cell_type": "markdown",
   "metadata": {},
   "source": [
    "Further reading<br>\n",
    "http://www.allaboutcircuits.com/textbook/alternating-current/chpt-6/resonance-series-parallel-circuits/<br>\n",
    "http://www.qsl.net/i0jx/supply.html<br>\n",
    "http://www.dos4ever.com/inductor/inductor.html<br>\n"
   ]
  },
  {
   "cell_type": "markdown",
   "metadata": {
    "collapsed": true
   },
   "source": [
    "## LTSpice Results\n",
    "\n",
    "<img src=\"Series_RCL_Circuit.png\"><br><img src=\"Series_RCL_Circuit_Plots.png\"><br>"
   ]
  },
  {
   "cell_type": "code",
   "execution_count": null,
   "metadata": {
    "collapsed": true
   },
   "outputs": [],
   "source": []
  }
 ],
 "metadata": {
  "kernelspec": {
   "display_name": "Python 2",
   "language": "python",
   "name": "python2"
  },
  "language_info": {
   "codemirror_mode": {
    "name": "ipython",
    "version": 2
   },
   "file_extension": ".py",
   "mimetype": "text/x-python",
   "name": "python",
   "nbconvert_exporter": "python",
   "pygments_lexer": "ipython2",
   "version": "2.7.11"
  }
 },
 "nbformat": 4,
 "nbformat_minor": 0
}
