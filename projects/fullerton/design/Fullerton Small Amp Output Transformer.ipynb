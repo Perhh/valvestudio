{
 "cells": [
  {
   "cell_type": "markdown",
   "metadata": {},
   "source": [
    "### Fullerton Small Amp Load Line\n",
    "\n",
    "In this notebook, we'll determine the small amp OPT requirements\n",
    "<hr>\n",
    "The plate-plate impedence for 6K6GT is 12K$\\Omega$ and 6V6GT is 10K$\\Omega$"
   ]
  },
  {
   "cell_type": "code",
   "execution_count": 2,
   "metadata": {
    "collapsed": true
   },
   "outputs": [],
   "source": [
    "import numpy as np"
   ]
  },
  {
   "cell_type": "code",
   "execution_count": 20,
   "metadata": {
    "collapsed": false
   },
   "outputs": [
    {
     "name": "stdout",
     "output_type": "stream",
     "text": [
      "11.3H\n"
     ]
    }
   ],
   "source": [
    "# see http://www.vintagewindings.com/gen%20pop/8299543VW8335/TransDesign%201/OP-Trans%20Winding.pdf\n",
    "\n",
    "rp = 100000\n",
    "rpp = 12000 / 2.0\n",
    "w   = 80 \n",
    "Lp = ((rpp*rp)/(rpp+rp)) / (2 * np.pi * w)\n",
    "print \"%.1fH\"%Lp"
   ]
  },
  {
   "cell_type": "markdown",
   "metadata": {},
   "source": [
    "candidates\n",
    "GXPP10-8-10K\n",
    "GXPP15-8-8K\n"
   ]
  },
  {
   "cell_type": "code",
   "execution_count": 18,
   "metadata": {
    "collapsed": false
   },
   "outputs": [
    {
     "name": "stdout",
     "output_type": "stream",
     "text": [
      "56.3Hz\n"
     ]
    }
   ],
   "source": [
    "Lp = 16.0\n",
    "w = ((rpp*rp)/(rpp+rp)) / (2 * np.pi * Lp)\n",
    "print \"%.1fHz\"%w"
   ]
  },
  {
   "cell_type": "code",
   "execution_count": null,
   "metadata": {
    "collapsed": true
   },
   "outputs": [],
   "source": []
  }
 ],
 "metadata": {
  "anaconda-cloud": {},
  "kernelspec": {
   "display_name": "Python [Root]",
   "language": "python",
   "name": "Python [Root]"
  },
  "language_info": {
   "codemirror_mode": {
    "name": "ipython",
    "version": 2
   },
   "file_extension": ".py",
   "mimetype": "text/x-python",
   "name": "python",
   "nbconvert_exporter": "python",
   "pygments_lexer": "ipython2",
   "version": "2.7.12"
  }
 },
 "nbformat": 4,
 "nbformat_minor": 0
}
