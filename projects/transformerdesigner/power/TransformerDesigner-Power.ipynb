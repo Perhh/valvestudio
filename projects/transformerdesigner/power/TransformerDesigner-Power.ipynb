{
 "cells": [
  {
   "cell_type": "markdown",
   "metadata": {},
   "source": [
    "## Transformer Designer - Power\n",
    "\n",
    "References\n",
    "* [Transformer Design and Manufacturing Manual - Wolpert](http://www.vintagewindings.com/gen%20pop/8299543VW8335/TransDesign%201/Wolpert-PowerTransformers.pdf)\n",
    "* [Flux Lines to Tesla](http://www.translatorscafe.com/cafe/EN/units-converter/magnetic-flux-density/10-1/line%2Finch%C2%B2-tesla/)\n",
    "\n",
    "Here are the default transformer parameter values\n",
    "\n",
    "    laminationVA           = lamva      \n",
    "    circularMilsPerAmp     = 800.0\n",
    "    coreLoss               = 0.66  # watts/lbs\n",
    "    efficiency             = 0.90  # 1/1.11 in wolpert p10\n",
    "    lineFrequency          = 60.0       \n",
    "    stackingFactor         = 0.92  # stacking factor wolpert p11 \n",
    "                                   #  0.92 1x1 interleave, 0.95 butt stack\n",
    "    lossFactor             = 0.95  # 1/1.05 in wolpert p11\n",
    "    isolationThickness     = 0.003 # 1 mil kapton\n",
    "    wrappingThickness      = 0.015      \n",
    "    weightExtra            = 1.15  # percentage of extra: bells, brackets, screws\n",
    "    insulationLayers       = 3\n",
    "    \n",
    "To Do\n",
    "* nothing currently\n"
   ]
  },
  {
   "cell_type": "markdown",
   "metadata": {},
   "source": [
    "#### Equations without losses\n",
    "\n",
    "$$\\frac{E_s}{E_p} = \\frac{N_s}{N_p}$$\n",
    "\n",
    "$$\\frac{I_s}{I_p} = \\frac{N_P}{N_S}$$\n",
    "\n",
    "\n",
    "$E_s$ = Secondary voltage<br>\n",
    "$E_p$ = Primary voltage<br>\n",
    "$I_s$ = Secondary current<br>\n",
    "$I_p$ = Primary voltage<br>\n",
    "$N_s$ = Secondary turns<br>\n",
    "$N_p$ = Primary turns<br>\n",
    "\n",
    "$$VA = E_p * I_p = E_s * I_s$$\n"
   ]
  },
  {
   "cell_type": "markdown",
   "metadata": {},
   "source": [
    "#### Equations with losses\n",
    "\n",
    "$$VA = E_s * I_s$$\n",
    "\n",
    "$$I_p = \\frac{VA * efficiency}{E_p}$$\n",
    "\n",
    "$$Area_{effective} = Area_{core} * stackingFactor$$\n",
    "\n",
    "$Area_{effective}$ = core area (tongue width * stack height)<br>\n",
    "stackingFactor = use 0.92 for 1x1 interleave and 0.95 for butt stack<br>\n",
    "\n",
    "$$N_p = \\frac{E_p * 10^8}{4.44 * B * A * F}$$\n",
    "\n",
    "4.44 is a constant for sine wave operation<br>\n",
    "B = flux density in $\\frac{lines}{inch^2}$<br>\n",
    "A = $Area_{effective}$<br>\n",
    "F = line frequency<br>\n",
    "\n",
    "$$N_s = \\frac{N_p}{E_p} * lossFactor * E_s$$\n",
    "\n",
    "lossFactor = factor to adjust turns to compensate for losses\n",
    "\n",
    "$$T_{rise} = \\frac{totalLoss}{0.1*{(\\frac{weight}{1.073})}^\\frac{2}{3}}$$\n",
    "\n",
    "$$\\%_{regulation} = \\frac{E_{noLoad} - E_{fullLoad}}{E_{fullLoad}} * 100\\%$$\n"
   ]
  },
  {
   "cell_type": "markdown",
   "metadata": {},
   "source": [
    "#### Calculation Steps\n",
    "* Sum desired secondary VAs, voltage * current\n",
    "* Calculate primary current including efficiency\n",
    "* Calculate effective core area using stacking factor\n",
    "* Calculate primary turns\n",
    "* Calculate secondary turns\n",
    "* Calculate primary and secondary wire diameters\n",
    "* Calculate primary and secondary layer count\n",
    "* Loop\n",
    " * Calculate all windings mean path length\n",
    " * Calculate all windings resistance\n",
    " * Calculate all winding voltage drops\n",
    " * Find secondary turn count that minimizes abs($V_{desired} - V_{out}$)\n",
    "* Calculate winding weight\n",
    "* Calculate transformer weight including extras: lead wire, bells, brackets\n",
    "* Calculate temperature rise above ambient, ($T_{ambient} + T_{rise}$) < 105C, Wolpert p25\n",
    "    \n",
    "#### Additional Considerations\n",
    "* Choice of flux density affects primary turn count, which results in an integer\n",
    " * Voltage ratios are a fractional number of 2 integer divisions\n",
    " * By changing the flux density, you can minutely alter the secondary output voltages\n",
    " * The fluxFind() method scans flux densities and returns density with minimal output error\n",
    " * While fluxFind() finds optimal density, you may opt for lower density to avoid saturation when using recycled, or unknown, laminations\n",
    "* Lowering circularMilsPerAmp results in smaller gauge wire with higher operating temperature. The default value of 800 is fairly conservative. If you're design doesn't quite fit, lower circularMilsPerAmp and see what happens to bobbin fill percentage and temperature rise \n",
    "* 29M6 GOSS laminations have coreLoss of 0.66 watts/lb, see Wolpert P24. Foster rep loosely stated their non-oriented lamination loss is 5W/lb at 13kGauss. You can see this in data sheets from AK Steel of ATI. In summary, non-oriented steel will have higher core losses hence higher temperature rise. However, they also have lower inrush current. If you're recycling laminations, chances are they are not oriented. You also don't know saturation, so choose a low flux density, which will increase turns and fill your bobbin.  "
   ]
  },
  {
   "cell_type": "code",
   "execution_count": null,
   "metadata": {
    "collapsed": false,
    "scrolled": false
   },
   "outputs": [],
   "source": [
    "%matplotlib notebook\n",
    "import Winding, Transformer\n",
    "import matplotlib.pyplot as plt\n",
    "import numpy as np\n",
    "import math"
   ]
  },
  {
   "cell_type": "code",
   "execution_count": null,
   "metadata": {
    "collapsed": false,
    "scrolled": false
   },
   "outputs": [],
   "source": [
    "# 6V6GT Push-Pull AB2 Power Transformer\n",
    "# 2 12AX7, 2 6V6GT, 1 5Y3\n",
    "\n",
    "%reload_ext autoreload\n",
    "\n",
    "primary      = Winding.Winding('p',115.0,0.0,None)\n",
    "secondary5   = Winding.Winding('s',  5.0,2.0,None)    #filament rectifier\n",
    "secondary6   = Winding.Winding('s',  6.3,1.7,[50])    #filaments 6v6,12ax7\n",
    "secondary325 = Winding.Winding('s',325.0,0.125,[50])  #plate\n",
    "secondary20  = Winding.Winding('s', 20.0,0.002,None)  #fixed bias\n",
    "\n",
    "t = Transformer.Transformer([secondary5,secondary6,primary,secondary325,secondary20],90) # windings order by gauge\n",
    "t.coreLoss           = 0.66  # watts/lb GOES lam\n",
    "t.wrappingThickness  = 0.005\n",
    "t.insulationLayers   = 2\n",
    "\n",
    "t.fluxDensity = t.fluxFind(bmax=100000,inc=100) # this scans through flux densities and finds minimal error for output voltage\n",
    "t.compute()\n",
    "t.report()\n"
   ]
  },
  {
   "cell_type": "code",
   "execution_count": null,
   "metadata": {
    "collapsed": false
   },
   "outputs": [],
   "source": [
    "t.plot(3)"
   ]
  },
  {
   "cell_type": "code",
   "execution_count": null,
   "metadata": {
    "collapsed": false,
    "scrolled": false
   },
   "outputs": [],
   "source": [
    "%reload_ext autoreload\n",
    "\n",
    "# here's a filament transformer design using EI150 lamination\n",
    "# I'm using this for a bench power supply\n",
    "# 5.0V@5A, 6.3V@8A, 12.6V@6A\n",
    "\n",
    "primary      = Winding.Winding('p',115.0,0.0,None)\n",
    "secondary5a  = Winding.Winding('s',5.0 ,2.5,[50])\n",
    "secondary5b  = Winding.Winding('s',5.0 ,2.5,[50])\n",
    "secondary6a  = Winding.Winding('s',6.3 ,4.0,[50])\n",
    "secondary6b  = Winding.Winding('s',6.3 ,4.0,[50])\n",
    "secondary12a = Winding.Winding('s',12.6,3.0,[50])\n",
    "secondary12b = Winding.Winding('s',12.6,3.0,[50])\n",
    "\n",
    "t = Transformer.Transformer([primary,secondary6a,secondary6b,secondary12a,secondary12b,secondary5a,secondary5b],160,have=1)\n",
    "t.coreLoss           = 0.8  # watts/lb, using AK DI-MAX M-13 at 12kG\n",
    "t.isolationThickness = 0.003\n",
    "t.wrappingThickness  = 0.005\n",
    "t.insulationLayers   = 2\n",
    "\n",
    "t.fluxDensity = t.fluxFind(bmax=100000,inc=500) # this scans through flux densities and finds minimal error for output voltage\n",
    "t.compute()\n",
    "t.report()\n"
   ]
  },
  {
   "cell_type": "code",
   "execution_count": null,
   "metadata": {
    "collapsed": false,
    "scrolled": false
   },
   "outputs": [],
   "source": [
    "nc = t.gcode()\n",
    "print nc"
   ]
  },
  {
   "cell_type": "code",
   "execution_count": null,
   "metadata": {
    "collapsed": false,
    "scrolled": false
   },
   "outputs": [],
   "source": [
    "# grid bias transformer\n",
    "\n",
    "primary   = Winding.Winding('p',115.0,0.0,None)\n",
    "secondary = Winding.Winding('s',100.0 ,0.020,[50])\n",
    "\n",
    "t = Transformer.Transformer([primary,secondary],7)\n",
    "t.coreLoss           = 0.66 # watts/lbs, goes\n",
    "\n",
    "t.fluxDensity = t.fluxFind(bmax=100000)\n",
    "#t.fluxDensity = 90000\n",
    "t.compute()\n",
    "t.report()\n",
    "t.fluxTable()\n",
    "t.fluxTable(sort='error')"
   ]
  },
  {
   "cell_type": "code",
   "execution_count": null,
   "metadata": {
    "collapsed": false,
    "scrolled": false
   },
   "outputs": [],
   "source": [
    "# power transformer for a flyback tube output stage screen bias 200V\n",
    "\n",
    "primary       = Winding.Winding('p',115.0,0.0,None)\n",
    "secondary5    = Winding.Winding('s',5.0,2.0,None)\n",
    "secondary6    = Winding.Winding('s',6.3,2.0,[50])\n",
    "secondary200  = Winding.Winding('s',200.0,0.05,None)\n",
    "secondary500  = Winding.Winding('s',500.0,0.100,[50])\n",
    "\n",
    "t = Transformer.Transformer([secondary5,secondary6,primary,secondary500,secondary200],90)\n",
    "t.circularMilsPerAmp = 700\n",
    "t.coreLoss           = 0.88 # watts/lbs\n",
    "t.wrappingThickness  = 0.05\n",
    "\n",
    "t.fluxDensity = t.fluxFind()\n",
    "t.compute()\n",
    "t.report()\n",
    "\n",
    "t.fluxTable()\n",
    "t.fluxTable(sort='error')"
   ]
  },
  {
   "cell_type": "code",
   "execution_count": null,
   "metadata": {
    "collapsed": true
   },
   "outputs": [],
   "source": []
  }
 ],
 "metadata": {
  "anaconda-cloud": {},
  "kernelspec": {
   "display_name": "Python [default]",
   "language": "python",
   "name": "python2"
  },
  "language_info": {
   "codemirror_mode": {
    "name": "ipython",
    "version": 2
   },
   "file_extension": ".py",
   "mimetype": "text/x-python",
   "name": "python",
   "nbconvert_exporter": "python",
   "pygments_lexer": "ipython2",
   "version": "2.7.12"
  }
 },
 "nbformat": 4,
 "nbformat_minor": 0
}
