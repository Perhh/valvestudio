{
 "cells": [
  {
   "cell_type": "markdown",
   "metadata": {},
   "source": [
    "## Transformer Designer - Power\n",
    "\n",
    "References\n",
    "* [Transformer Design and Manufacturing Manual - Wolpert](http://www.vintagewindings.com/gen%20pop/8299543VW8335/TransDesign%201/Wolpert-PowerTransformers.pdf)\n",
    "* [Flux Lines to Tesla](http://www.translatorscafe.com/cafe/EN/units-converter/magnetic-flux-density/10-1/line%2Finch%C2%B2-tesla/)\n",
    "\n",
    "This notebook doesn't support ordering windings, primary is next to core, the secondaries."
   ]
  },
  {
   "cell_type": "code",
   "execution_count": 1,
   "metadata": {
    "collapsed": false,
    "scrolled": false
   },
   "outputs": [],
   "source": [
    "import Winding, Bobbin, Transformer\n",
    "%load_ext autoreload"
   ]
  },
  {
   "cell_type": "code",
   "execution_count": 6,
   "metadata": {
    "collapsed": false,
    "scrolled": false
   },
   "outputs": [
    {
     "name": "stdout",
     "output_type": "stream",
     "text": [
      "Transformer\n",
      "  VA                   = 52.8 VA\n",
      "  Flux Density         = 100000 lines, 15500 gauss\n",
      "  Weight               = 1.5lbs\n",
      "  Loss                 = 1.2W\n",
      "  Temp Rise            = 9C\n",
      "\n",
      "Lamination\n",
      "  Size                 = EI-1\n",
      "  Stack Height         = 1.0\n",
      "  Stacking Factor      = 0.920\n",
      "  Core Area            = 1.000 in*in\n",
      "  Core Area Effective  = 0.920 in*in\n",
      "  Bobbin Window Length = 1.330 in\n",
      "\n",
      "Bobbin\n",
      "  Stack Height         = 0.5120 in\n",
      "  Window Height        = 0.5000 in\n",
      "  Fill                 = 102.4 %\n",
      "  Winding Stack\n",
      "    Type                 #   Height Description\n",
      "    Wire               = 9   0.024  Primary 23AWG\n",
      "    Insulation         = 3   0.005  Primary/Secondary Insulation\n",
      "    Wire               = 1   0.059  Secondary 15AWG\n",
      "    Insulation         = 3   0.005  Secondary/Secondary Insulation\n",
      "    Wire               = 3   0.059  Secondary 15AWG\n",
      "    Insulation         = 2   0.015  Wrapping\n",
      "                   Total     0.512 in\n",
      "\n",
      "Winding Primary\n",
      "  Voltage              = 115.0 V\n",
      "  Current              = 0.510 A\n",
      "  AWG                  = 23\n",
      "  Turns                = 469\n",
      "  Layers               = 9\n",
      "  Turns/layer          = 55\n",
      "  Mean Path Length     = 5.3 in\n",
      "  Wire Length          = 205.7 ft\n",
      "  Wire Diameter        = 0.024\n",
      "  Resistance           = 0.3497\n",
      "  Voltage Drop         = 0.178 V\n",
      "\n",
      "Winding Secondary\n",
      "  Voltage              = 5.0 V\n",
      "  Current              = 3.000 A\n",
      "  AWG                  = 15\n",
      "  Turns                = 21\n",
      "  Layers               = 1\n",
      "  Turns/layer          = 22\n",
      "  Mean Path Length     = 5.5 in\n",
      "  Wire Length          = 9.7 ft\n",
      "  Wire Diameter        = 0.059\n",
      "  Resistance           = 0.0026\n",
      "  Voltage Drop         = 0.0 V\n",
      "  Vout                 = 5.134\n",
      "  VoutRMS              = 1.768\n",
      "  VoutNoLoad           = 5.149\n",
      "  Regulation           = 0.3\n",
      "\n",
      "Winding Secondary\n",
      "  Voltage              = 12.6 V\n",
      "  Current              = 3.000 A\n",
      "  AWG                  = 15\n",
      "  Turns                = 54\n",
      "  Layers               = 3\n",
      "  Turns/layer          = 22\n",
      "  Mean Path Length     = 6.3 in\n",
      "  Wire Length          = 28.3 ft\n",
      "  Wire Diameter        = 0.059\n",
      "  Resistance           = 0.0075\n",
      "  Voltage Drop         = 0.0 V\n",
      "  Vout                 = 13.198\n",
      "  VoutRMS              = 4.455\n",
      "  VoutNoLoad           = 13.241\n",
      "  Regulation           = 0.3\n",
      "\n"
     ]
    }
   ],
   "source": [
    "%autoreload\n",
    "\n",
    "bobbin = Bobbin.Bobbin(1.47,0.05,0.02)\n",
    "primary   = Winding.Winding(115.0,0.0,None)\n",
    "secondary = Winding.Winding(5.00,3.0,None)\n",
    "secondarya = Winding.Winding(12.6,3.00,None)\n",
    "\n",
    "t = Transformer.Transformer(primary,[secondary,secondarya],45,bobbin)\n",
    "t.fluxDensity        = 100000\n",
    "t.circularMilsPerAmp = 800.0\n",
    "t.coreLoss           = 0.66 # watts/lbs\n",
    "t.efficiency         = 0.90 # 1/1.11 in wolpert p10\n",
    "t.lineFrequency      = 60.0\n",
    "t.isolationThickness = 0.005\n",
    "t.stackingFactor     = 0.92 # stacking factor wolpert p11 0.92 1x1 interleave, 0.95 butt stack\n",
    "t.lossFactor         = 0.95 # 1/1.05 in wolpert p11\n",
    "t.wrappingThickness  = 0.015\n",
    "t.WeightExtra        = 1.15\n",
    "\n",
    "# t.laminationTable()\n",
    "t.compute()\n",
    "t.report()"
   ]
  },
  {
   "cell_type": "code",
   "execution_count": 3,
   "metadata": {
    "collapsed": false,
    "scrolled": true
   },
   "outputs": [
    {
     "ename": "AttributeError",
     "evalue": "Transformer instance has no attribute 'NpWire'",
     "output_type": "error",
     "traceback": [
      "\u001b[0;31m---------------------------------------------------------------------------\u001b[0m",
      "\u001b[0;31mAttributeError\u001b[0m                            Traceback (most recent call last)",
      "\u001b[0;32m<ipython-input-3-2133ba4fa17f>\u001b[0m in \u001b[0;36m<module>\u001b[0;34m()\u001b[0m\n\u001b[0;32m----> 1\u001b[0;31m \u001b[0mt\u001b[0m\u001b[0;34m.\u001b[0m\u001b[0mgcode\u001b[0m\u001b[0;34m(\u001b[0m\u001b[0;34m)\u001b[0m\u001b[0;34m\u001b[0m\u001b[0m\n\u001b[0m",
      "\u001b[0;32m/home/holla/v/projects/transformerdesigner/power/Transformer.pyc\u001b[0m in \u001b[0;36mgcode\u001b[0;34m(self)\u001b[0m\n\u001b[1;32m    291\u001b[0m     \u001b[0;32mdef\u001b[0m \u001b[0mgcode\u001b[0m\u001b[0;34m(\u001b[0m\u001b[0mself\u001b[0m\u001b[0;34m)\u001b[0m\u001b[0;34m:\u001b[0m\u001b[0;34m\u001b[0m\u001b[0m\n\u001b[1;32m    292\u001b[0m         \u001b[0;31m#gcode generation here\u001b[0m\u001b[0;34m\u001b[0m\u001b[0;34m\u001b[0m\u001b[0m\n\u001b[0;32m--> 293\u001b[0;31m         \u001b[0;32mprint\u001b[0m \u001b[0;34m\"(load #%sAWG wire)\"\u001b[0m\u001b[0;34m%\u001b[0m\u001b[0mself\u001b[0m\u001b[0;34m.\u001b[0m\u001b[0mNpWire\u001b[0m\u001b[0;34m[\u001b[0m\u001b[0;34m'size'\u001b[0m\u001b[0;34m]\u001b[0m\u001b[0;34m\u001b[0m\u001b[0m\n\u001b[0m\u001b[1;32m    294\u001b[0m         \u001b[0;32mprint\u001b[0m \u001b[0;34m\"(set bobbin zero)\"\u001b[0m\u001b[0;34m\u001b[0m\u001b[0m\n\u001b[1;32m    295\u001b[0m         \u001b[0;32mprint\u001b[0m \u001b[0;34m\"(winding %d turns)\"\u001b[0m\u001b[0;34m%\u001b[0m\u001b[0mself\u001b[0m\u001b[0;34m.\u001b[0m\u001b[0mNp\u001b[0m\u001b[0;34m\u001b[0m\u001b[0m\n",
      "\u001b[0;31mAttributeError\u001b[0m: Transformer instance has no attribute 'NpWire'"
     ]
    }
   ],
   "source": [
    "t.gcode()"
   ]
  },
  {
   "cell_type": "code",
   "execution_count": null,
   "metadata": {
    "collapsed": false
   },
   "outputs": [],
   "source": [
    "t.fluxtable(90,22,30)"
   ]
  }
 ],
 "metadata": {
  "anaconda-cloud": {},
  "kernelspec": {
   "display_name": "Python [default]",
   "language": "python",
   "name": "python2"
  },
  "language_info": {
   "codemirror_mode": {
    "name": "ipython",
    "version": 2
   },
   "file_extension": ".py",
   "mimetype": "text/x-python",
   "name": "python",
   "nbconvert_exporter": "python",
   "pygments_lexer": "ipython2",
   "version": "2.7.12"
  }
 },
 "nbformat": 4,
 "nbformat_minor": 0
}
