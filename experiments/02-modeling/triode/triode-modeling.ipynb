{
 "cells": [
  {
   "cell_type": "markdown",
   "metadata": {
    "slideshow": {
     "slide_type": "slide"
    }
   },
   "source": [
    "# Triode Modeling\n",
    "* Model Parameter Extraction\n",
    "* Model Parameter Verification\n",
    "\n",
    "This experiment uses data extracted from a vacuum tube datasheet and scipy.optimize to calculate the [Child-Languir](http://www.john-a-harper.com/tubes201/) parameters used for circuit simulation.\n",
    "\n",
    "$$I_a = K (V_{gk} + D_aV_{ak})^{3/2}$$\n",
    "\n",
    "We are going to use curve fitting to determine $$K \\text{  and  } D_A$$ \n",
    "\n",
    "Then we can use [Leach's triode](users.ece.gatech.edu/mleach/papers/tubeamp/tubeamp.pdf) SPICE model."
   ]
  },
  {
   "cell_type": "code",
   "execution_count": 34,
   "metadata": {
    "collapsed": false,
    "slideshow": {
     "slide_type": "skip"
    }
   },
   "outputs": [],
   "source": [
    "import scipy\n",
    "from scipy.optimize import curve_fit\n",
    "import numpy as np\n",
    "import matplotlib.pyplot as plt"
   ]
  },
  {
   "cell_type": "markdown",
   "metadata": {
    "slideshow": {
     "slide_type": "slide"
    }
   },
   "source": [
    "Starting with the [Philips ECC83 data sheet](data/ecc83-philips-1954.pdf), create a PNG of the \n",
    "![ECC83 Philips 1953](data/ecc83-philips-1954.png)\n",
    "import this image into [engauge](https://github.com/markummitchell/engauge-digitizer)"
   ]
  },
  {
   "cell_type": "markdown",
   "metadata": {
    "slideshow": {
     "slide_type": "slide"
    }
   },
   "source": [
    "Create 9 curves then use 'curve point tool' to add points to each curve\n",
    "![ecc83-philips-1954.dig.screen1.png](data/ecc83-philips-1954.dig.screen1.png)"
   ]
  },
  {
   "cell_type": "markdown",
   "metadata": {
    "collapsed": true,
    "slideshow": {
     "slide_type": "slide"
    }
   },
   "source": [
    "Change export options, \"Raw Xs and Ys\" and \"One curve on each line\", otherwise engauge will do some interrupting of your points\n",
    "![ecc83-philips-1954.dig.screen2.png](data/ecc83-philips-1954.dig.screen2.png)\n",
    "export a csv file"
   ]
  },
  {
   "cell_type": "code",
   "execution_count": 35,
   "metadata": {
    "collapsed": false,
    "slideshow": {
     "slide_type": "slide"
    }
   },
   "outputs": [
    {
     "name": "stdout",
     "output_type": "stream",
     "text": [
      "x,Curve1\r\n",
      "2.26,0.0001626\r\n",
      "9.41,0.0003321\r\n",
      "14.94,0.0004691\r\n",
      "22.1,0.0005997\r\n",
      "28.27,0.0007562\r\n",
      "38.35,0.0009455\r\n",
      "46.82,0.0010698\r\n",
      "54.63,0.001207\r\n",
      "65.69,0.0013899\r\n",
      "77.07,0.0016054\r\n",
      "86.5,0.0018142\r\n",
      "103.09,0.0021795\r\n",
      "124.87,0.0026818\r\n",
      "146.98,0.0031906\r\n",
      "166.16,0.0036406\r\n",
      "183.06,0.0040515\r\n",
      "199.96,0.0044558\r\n",
      "216.87,0.0048537\r\n",
      "\r\n",
      "x,Curve2\r\n",
      "7.17,3.97e-05\r\n",
      "14.66,9.24e-05\r\n",
      "23.13,0.0001582\r\n",
      "31.28,0.0002175\r\n",
      "38.11,0.0003156\r\n",
      "43.65,0.0003747\r\n",
      "53.09,0.0004795\r\n",
      "61.23,0.0005908\r\n",
      "71.64,0.0007412\r\n",
      "80.76,0.000872\r\n",
      "97.35,0.0011335\r\n",
      "113.62,0.0014144\r\n",
      "129.88,0.0017278\r\n",
      "147.77,0.0021063\r\n",
      "163.37,0.0024585\r\n",
      "180.61,0.0028564\r\n",
      "195.56,0.0031956\r\n",
      "208.89,0.0035152\r\n",
      "223.84,0.0038674\r\n",
      "236.85,0.0041869\r\n",
      "249.19,0.0045064\r\n",
      "\r\n",
      "x,Curve3\r\n",
      "12.39,-1.82e-05\r\n",
      "24.46,-4e-06\r\n",
      "30.65,9.7e-06\r\n",
      "36.84,2.98e-05\r\n",
      "43.69,5.65e-05\r\n",
      "50.53,8.97e-05\r\n",
      "61.94,0.0001558\r\n",
      "74.32,0.0002285\r\n",
      "82.46,0.0002878\r\n",
      "88,0.0003598\r\n",
      "101.02,0.0004845\r\n",
      "113.39,0.0006417\r\n",
      "125.11,0.0007922\r\n",
      "136.5,0.0009817\r\n",
      "153.42,0.0012692\r\n",
      "177.81,0.0017587\r\n",
      "201.23,0.0022417\r\n",
      "223.67,0.0027245\r\n",
      "246.75,0.0032464\r\n",
      "268.54,0.0037162\r\n",
      "\r\n",
      "x,Curve4\r\n",
      "8.15,-1.21e-05\r\n",
      "42.39,-1.51e-05\r\n",
      "67.5,-1.9e-05\r\n",
      "80.87,8.4e-06\r\n",
      "99.44,0.0001142\r\n",
      "114.76,0.0002002\r\n",
      "130.72,0.0003123\r\n",
      "144.4,0.0004371\r\n",
      "162.31,0.0006208\r\n",
      "175.98,0.000791\r\n",
      "188.02,0.0009871\r\n",
      "214.05,0.0014378\r\n",
      "232.92,0.0018099\r\n",
      "252.75,0.0022211\r\n",
      "268.04,0.0025603\r\n",
      "281.69,0.0028734\r\n",
      "296.97,0.0032257\r\n",
      "\r\n",
      "x,Curve5\r\n",
      "4.24,6.9e-06\r\n",
      "47.94,-8e-06\r\n",
      "91.3,3e-06\r\n",
      "112.17,-1.3e-06\r\n",
      "130.43,7.2e-05\r\n",
      "142.81,0.0001057\r\n",
      "152.91,0.0001587\r\n",
      "165.3,0.000212\r\n",
      "174.42,0.0002844\r\n",
      "188.43,0.0003832\r\n",
      "201.13,0.0004949\r\n",
      "227.17,0.0008288\r\n",
      "249.3,0.0011882\r\n",
      "272.4,0.0015997\r\n",
      "291.26,0.0019848\r\n",
      "306.87,0.0023436\r\n",
      "321.83,0.0026503\r\n",
      "\r\n",
      "x,Curve6\r\n",
      "6.85,7e-07\r\n",
      "54.46,5.7e-06\r\n",
      "104.35,-2.1e-06\r\n",
      "143.15,1.9e-06\r\n",
      "167.61,1.74e-05\r\n",
      "183.91,3.86e-05\r\n",
      "191.4,9.13e-05\r\n",
      "208.02,0.0001645\r\n",
      "220.73,0.0002567\r\n",
      "233.76,0.0003684\r\n",
      "245.48,0.0004736\r\n",
      "266.97,0.0007096\r\n",
      "285.2,0.0009972\r\n",
      "304.07,0.0013173\r\n",
      "323.26,0.001644\r\n",
      "338.55,0.0019637\r\n",
      "\r\n",
      "x,Curve7\r\n",
      "4.57,5e-07\r\n",
      "77.28,8e-06\r\n",
      "120,-5e-07\r\n",
      "175.11,-1.43e-05\r\n",
      "201.52,8e-06\r\n",
      "221.73,3.6e-05\r\n",
      "235.42,0.0001154\r\n",
      "252.04,0.000182\r\n",
      "262.79,0.0002741\r\n",
      "277.12,0.0003794\r\n",
      "294.06,0.00055\r\n",
      "307.74,0.0006878\r\n",
      "316.2,0.0008056\r\n",
      "335.4,0.0010738\r\n",
      "353.3,0.0013419\r\n",
      "369.9,0.0016099\r\n",
      "\r\n",
      "x,Curve8\r\n",
      "15.33,-4.9e-06\r\n",
      "100.11,-2.6e-06\r\n",
      "157.5,-3.1e-06\r\n",
      "191.09,1.34e-05\r\n",
      "234.78,-1.46e-05\r\n",
      "253.37,2.63e-05\r\n",
      "262.82,4.68e-05\r\n",
      "274.23,7.39e-05\r\n",
      "285.31,0.0001206\r\n",
      "296.39,0.0001801\r\n",
      "304.86,0.0002265\r\n",
      "317.24,0.0003122\r\n",
      "325.06,0.0003714\r\n",
      "341.99,0.000555\r\n",
      "357.95,0.000719\r\n",
      "371.3,0.0009022\r\n",
      "\r\n",
      "x,Curve9\r\n",
      "15.65,-4.9e-06\r\n",
      "80.22,1.8e-06\r\n",
      "136.96,1.2e-06\r\n",
      "192.72,5e-07\r\n",
      "243.59,-7e-07\r\n",
      "283.37,-3e-06\r\n",
      "295.76,4.8e-06\r\n",
      "305.21,5.12e-05\r\n",
      "316.29,7.83e-05\r\n",
      "327.05,0.0001249\r\n",
      "335.85,0.0001778\r\n",
      "346.6,0.0002503\r\n",
      "357.03,0.0003033\r\n",
      "364.19,0.0003495\r\n",
      "372.99,0.0004089\r\n"
     ]
    }
   ],
   "source": [
    "%cat data/ecc83-philips-1954.csv\n"
   ]
  },
  {
   "cell_type": "markdown",
   "metadata": {
    "slideshow": {
     "slide_type": "subslide"
    }
   },
   "source": [
    "Need to create scipy array like this\n",
    "\n",
    "x = scipy.array([[0,150],[-3.0,300],[-1.0,200],[-2.0,250]])\n",
    "\n",
    "y = scipy.array([3.2e-3,0.6e-3,2.2e-3,1.2e-3])\n",
    "\n",
    "from the extracted curves"
   ]
  },
  {
   "cell_type": "code",
   "execution_count": 36,
   "metadata": {
    "collapsed": false,
    "slideshow": {
     "slide_type": "subslide"
    }
   },
   "outputs": [],
   "source": [
    "fname = \"data/ecc83-philips-1954.csv\"\n",
    "f = open(fname,'r').readlines()\n",
    "\n",
    "deltaVgk = -0.5\n",
    "\n",
    "VgkVak = []\n",
    "Iak    = []\n",
    "Vaks   = []\n",
    "\n",
    "for l in f:\n",
    "    l = l.strip()\n",
    "    if len(l): # skip blank lines\n",
    "        if l[0] == 'x':\n",
    "            vn = float(l.split(\"Curve\")[1]) - 1.0\n",
    "            Vgk = vn * deltaVgk\n",
    "            continue\n",
    "        else:\n",
    "            (Vak,i) = l.split(',')\n",
    "        VgkVak.append([float(Vgk),float(Vak)])\n",
    "        Iak.append(float(i))\n",
    "        Vaks.append(float(Vak))\n",
    "\n",
    "x = scipy.array(VgkVak)\n",
    "y = scipy.array(Iak)\n",
    "Vaks = scipy.array(Vaks)"
   ]
  },
  {
   "cell_type": "code",
   "execution_count": 39,
   "metadata": {
    "collapsed": false,
    "slideshow": {
     "slide_type": "slide"
    }
   },
   "outputs": [
    {
     "name": "stdout",
     "output_type": "stream",
     "text": [
      "K=0.00126098   Da=0.01179251\n"
     ]
    }
   ],
   "source": [
    "%matplotlib inline\n",
    "exp = 1.5\n",
    "\n",
    "def func(x,K,Da):\n",
    "    rv = []\n",
    "    for VV in x:\n",
    "        Vgk = VV[0]\n",
    "        Vak = VV[1]\n",
    "        t = Vgk + Da * Vak\n",
    "\n",
    "        if t > 0:\n",
    "            Ia = K * t**exp\n",
    "        else:\n",
    "            Ia = 0\n",
    "        # print \"IaCalc\",Vgk,Vak,t,Ia\n",
    "        rv.append(Ia)\n",
    "\n",
    "    return rv\n",
    "\n",
    "popt, pcov = curve_fit(func, x, y,p0=[0.001,0.01])\n",
    "#print popt,pcov\n",
    "\n",
    "(K,Da) = popt\n",
    "\n",
    "print \"K=%.8f   Da=%.8f\"%(K,Da)\n",
    "\n"
   ]
  },
  {
   "cell_type": "code",
   "execution_count": 40,
   "metadata": {
    "collapsed": false,
    "scrolled": true,
    "slideshow": {
     "slide_type": "slide"
    }
   },
   "outputs": [
    {
     "data": {
      "image/png": "[encoded data removed]",
      "text/plain": [
       "<matplotlib.figure.Figure at 0xaf05888c>"
      ]
     },
     "metadata": {},
     "output_type": "display_data"
    }
   ],
   "source": [
    "def IaCalc(Vgk,Vak):\n",
    "    t = Vgk + Da * Vak\n",
    "    if t > 0:\n",
    "        Ia = K * t**exp\n",
    "    else:\n",
    "        Ia = 0\n",
    "    # print \"IaCalc\",Vgk,Vak,t,Ia\n",
    "    return Ia\n",
    "\n",
    "Vgk = np.linspace(0,-5,11)\n",
    "Vak = np.linspace(0,400,21)\n",
    "\n",
    "vIaCalc = np.vectorize(IaCalc,otypes=[np.float])\n",
    "\n",
    "Ia = vIaCalc(Vgk[:,None],Vak[None,:])\n",
    "\n",
    "plt.figure(figsize=(12,6))\n",
    "\n",
    "for i in range(len(Vgk)):\n",
    "    plt.plot(Vak,Ia[i],label=Vgk[i])\n",
    "\n",
    "plt.scatter(Vaks,y,marker=\"+\")\n",
    "plt.legend(loc='upper left')\n",
    "plt.suptitle('ECC83 Child-Langmuir Curve-Fit K/Da Model (Philips 1954)', fontsize=14, fontweight='bold')\n",
    "plt.grid()\n",
    "plt.ylim((0,0.005))\n",
    "plt.xlim((0,400))\n",
    "#plt.savefig(\"ecc83-philips-1954-curvefit.png\")\n",
    "plt.show()"
   ]
  },
  {
   "cell_type": "code",
   "execution_count": null,
   "metadata": {
    "collapsed": true
   },
   "outputs": [],
   "source": []
  }
 ],
 "metadata": {
  "celltoolbar": "Slideshow",
  "kernelspec": {
   "display_name": "Python 2",
   "language": "python",
   "name": "python2"
  },
  "language_info": {
   "codemirror_mode": {
    "name": "ipython",
    "version": 2
   },
   "file_extension": ".py",
   "mimetype": "text/x-python",
   "name": "python",
   "nbconvert_exporter": "python",
   "pygments_lexer": "ipython2",
   "version": "2.7.11"
  }
 },
 "nbformat": 4,
 "nbformat_minor": 0
}
