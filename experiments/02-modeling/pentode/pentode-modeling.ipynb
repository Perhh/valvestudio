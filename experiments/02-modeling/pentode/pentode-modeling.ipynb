{
 "cells": [
  {
   "cell_type": "markdown",
   "metadata": {
    "slideshow": {
     "slide_type": "slide"
    }
   },
   "source": [
    "# Pentode Modeling\n",
    "* Model Parameter Extraction\n",
    "* Model Parameter Verification\n",
    "\n",
    "This experiment uses data extracted from a vacuum tube datasheet and scipy.optimize to calculate the [Child-Langmuir](http://www.john-a-harper.com/tubes201/) parameters used for circuit simulation.\n",
    "\n",
    "$$I_a = K (V_{g1k} + D_{g2}V_{g2k} + D_aV_{ak})^{3/2}$$\n",
    "\n",
    "Now we're adding the [van der Veen K modifier](http://www.amazon.com/gp/product/0905705904),\n",
    "\n",
    "$$\\alpha = \\alpha_0(({2/\\pi})\\arctan (V_{ak}/V_{g2k}))^{1/n}$$\n",
    "\n",
    "$$I_a = \\alpha K (V_{g1k} + D_{g2}V_{g2k} + D_aV_{ak})^{3/2}$$\n",
    "\n",
    "$$I_a = \\alpha_0(({2/\\pi})\\arctan(V_{ak}/V_{g2k}))^{1/n} K (V_{g1k} + D_{g2}V_{g2k} + D_aV_{ak})^{3/2}$$\n",
    "\n",
    "\n",
    "\n",
    "We are going to use curve fitting to determine $$K, D_a, D_{g2},\\alpha_0, \\text{  and  } n$$ \n",
    "\n",
    "Then we can use [Leach's pentode](users.ece.gatech.edu/mleach/papers/tubeamp/tubeamp.pdf) SPICE model with the van der Veen modifier."
   ]
  },
  {
   "cell_type": "code",
   "execution_count": 1,
   "metadata": {
    "collapsed": false,
    "slideshow": {
     "slide_type": "skip"
    }
   },
   "outputs": [
    {
     "name": "stderr",
     "output_type": "stream",
     "text": [
      "/home/holla/anaconda2/lib/python2.7/site-packages/matplotlib/font_manager.py:273: UserWarning: Matplotlib is building the font cache using fc-list. This may take a moment.\n",
      "  warnings.warn('Matplotlib is building the font cache using fc-list. This may take a moment.')\n"
     ]
    }
   ],
   "source": [
    "import scipy\n",
    "from scipy.optimize import curve_fit\n",
    "import numpy as np\n",
    "import matplotlib.pyplot as plt\n",
    "from math import pi,atan\n"
   ]
  },
  {
   "cell_type": "markdown",
   "metadata": {
    "slideshow": {
     "slide_type": "slide"
    }
   },
   "source": [
    "Starting with the [Philips EL34 data sheet](data/el34-philips-1958.pdf), create a PNG of the \n",
    "![EL34 Philips 1958 @ 360V](data/el34-philips-1958-360V.png)\n",
    "import this image into [engauge](https://github.com/markummitchell/engauge-digitizer)"
   ]
  },
  {
   "cell_type": "markdown",
   "metadata": {
    "slideshow": {
     "slide_type": "slide"
    }
   },
   "source": [
    "Create 9 curves then use 'curve point tool' to add points to each curve\n",
    "![el34-philips-1958-360V.dig.scree1.png](data/el34-philips-1958-360V.dig.scree1.png)"
   ]
  },
  {
   "cell_type": "markdown",
   "metadata": {
    "collapsed": true,
    "slideshow": {
     "slide_type": "slide"
    }
   },
   "source": [
    "Change export options, \"Raw Xs and Ys\" and \"One curve on each line\", otherwise engauge will do some interrupting of your points\n",
    "![engauge export settings](data/engauge-export-settings.png)\n",
    "export a csv file"
   ]
  },
  {
   "cell_type": "code",
   "execution_count": 2,
   "metadata": {
    "collapsed": false,
    "slideshow": {
     "slide_type": "slide"
    }
   },
   "outputs": [
    {
     "name": "stdout",
     "output_type": "stream",
     "text": [
      "x,Curve1\r\n",
      "9.66,0.17962\r\n",
      "22.99,0.26382\r\n",
      "41.49,0.3227\r\n",
      "70.55,0.37863\r\n",
      "116.61,0.42335\r\n",
      "167.87,0.44981\r\n",
      "208.47,0.45979\r\n",
      "\r\n",
      "x,Curve2\r\n",
      "10.69,0.14899\r\n",
      "31.64,0.22789\r\n",
      "55.38,0.27793\r\n",
      "80.22,0.30912\r\n",
      "107.97,0.3356\r\n",
      "142.14,0.35266\r\n",
      "183.36,0.36911\r\n",
      "233.38,0.38262\r\n",
      "270.44,0.38907\r\n",
      "\r\n",
      "x,Curve3\r\n",
      "10.54,0.11601\r\n",
      "26.63,0.16252\r\n",
      "49.13,0.19902\r\n",
      "79.27,0.23256\r\n",
      "112.89,0.25786\r\n",
      "159.43,0.27962\r\n",
      "208.86,0.29312\r\n",
      "259.46,0.30309\r\n",
      "315.33,0.31012\r\n",
      "358.25,0.31244\r\n",
      "\r\n",
      "x,Curve4\r\n",
      "10.97,0.08244\r\n",
      "35.85,0.12306\r\n",
      "66.58,0.15896\r\n",
      "102.56,0.18602\r\n",
      "159.69,0.2113\r\n",
      "217.95,0.22657\r\n",
      "280.3,0.23653\r\n",
      "338.51,0.24061\r\n",
      "419.65,0.24643\r\n",
      "489.03,0.24991\r\n",
      "\r\n",
      "x,Curve5\r\n",
      "10.89,0.06595\r\n",
      "47.46,0.09301\r\n",
      "83.43,0.11831\r\n",
      "125.86,0.14183\r\n",
      "195.91,0.16298\r\n",
      "295.88,0.17409\r\n",
      "379.38,0.18109\r\n",
      "469.93,0.1875\r\n",
      "644.55,0.20032\r\n",
      "\r\n",
      "x,Curve6\r\n",
      "12.53,0.04004\r\n",
      "29.04,0.05121\r\n",
      "49.61,0.05002\r\n",
      "73.19,0.0659\r\n",
      "115.62,0.08884\r\n",
      "176.84,0.10822\r\n",
      "243.3,0.11642\r\n",
      "443.79,0.12922\r\n",
      "740.72,0.15077\r\n",
      "\r\n",
      "x,Curve7\r\n",
      "10.73,0.03179\r\n",
      "36.62,0.03707\r\n",
      "66,0.03646\r\n",
      "117.81,0.05468\r\n",
      "194.3,0.0717\r\n",
      "275.44,0.07693\r\n",
      "381.26,0.08156\r\n",
      "498.26,0.08913\r\n",
      "745.19,0.10189\r\n",
      "\r\n",
      "x,Curve8\r\n",
      "11.26,0.01884\r\n",
      "37.72,0.02235\r\n",
      "74.77,0.02644\r\n",
      "144.18,0.03817\r\n",
      "231.2,0.04458\r\n",
      "364.06,0.0486\r\n",
      "549.83,0.05493\r\n",
      "741.47,0.06126\r\n",
      "\r\n",
      "x,Curve9\r\n",
      "12.39,0.01059\r\n",
      "35.33,0.01293\r\n",
      "64.68,0.00525\r\n",
      "117.06,0.01934\r\n",
      "194.07,0.02282\r\n",
      "319.29,0.02684\r\n",
      "439.79,0.0291\r\n",
      "584.99,0.0337\r\n",
      "739.6,0.03829\r\n"
     ]
    }
   ],
   "source": [
    "%cat data/el34-philips-1958-360V.csv\n"
   ]
  },
  {
   "cell_type": "markdown",
   "metadata": {
    "slideshow": {
     "slide_type": "subslide"
    }
   },
   "source": [
    "Need to create scipy array like this\n",
    "\n",
    "x = scipy.array( [[360, -0.0, 9.66], [360, -0.0, 22.99], ...\n",
    "\n",
    "y = scipy.array( [0.17962, 0.26382, 0.3227, 0.37863, ...\n",
    "\n",
    "Vaks = scipy.array( [9.66, 22.99, 41.49, 70.55, 116.61, ...\n",
    "\n",
    "from the extracted curves"
   ]
  },
  {
   "cell_type": "code",
   "execution_count": 3,
   "metadata": {
    "collapsed": false,
    "slideshow": {
     "slide_type": "subslide"
    }
   },
   "outputs": [],
   "source": [
    "fname = \"data/el34-philips-1958-360V.csv\"\n",
    "f = open(fname,'r').readlines()\n",
    "\n",
    "deltaVgk = -4.0\n",
    "exp = 1.50\n",
    "\n",
    "\n",
    "VgkVak = []\n",
    "Iak    = []\n",
    "Vaks   = []\n",
    "\n",
    "f = open(fname,'r').readlines()\n",
    "\n",
    "vg2k = 360\n",
    "\n",
    "for l in f:\n",
    "    l = l.strip()\n",
    "    if len(l): # skip blank lines\n",
    "        if l[0] == 'x':\n",
    "            vn = float(l.split(\"Curve\")[1]) - 1.0\n",
    "            Vgk = vn * deltaVgk\n",
    "            continue\n",
    "        else:\n",
    "            (Vak,i) = l.split(',')\n",
    "        VgkVak.append([vg2k,float(Vgk),float(Vak)])\n",
    "        Iak.append(float(i))\n",
    "        Vaks.append(float(Vak))\n",
    "\n",
    "x = scipy.array(VgkVak)\n",
    "y = scipy.array(Iak)\n",
    "Vaks = scipy.array(Vaks)"
   ]
  },
  {
   "cell_type": "code",
   "execution_count": 4,
   "metadata": {
    "collapsed": false,
    "slideshow": {
     "slide_type": "slide"
    }
   },
   "outputs": [
    {
     "name": "stdout",
     "output_type": "stream",
     "text": [
      "K   = 0.188729707825\n",
      "Da  = 0.0017797483801\n",
      "Dg2 = 0.0901811746257\n",
      "a0  = 0.0169516239339\n",
      "n   = 3.80389683439\n"
     ]
    }
   ],
   "source": [
    "%matplotlib inline\n",
    "def func(x,K,Da,Dg2,a0,n):\n",
    "    rv = []\n",
    "    for VV in x:\n",
    "        Vg2k = VV[0]\n",
    "        Vg1k = VV[1]\n",
    "        Vak  = VV[2]\n",
    "        t = Vg1k + Dg2 * Vg2k + Da * Vak\n",
    "\n",
    "        if t > 0:\n",
    "            a = a0 * ((2/pi) * atan(Vak/Vg2k))**(1/n)\n",
    "            Ia = a * K * t**exp\n",
    "        else:\n",
    "            Ia = 0\n",
    "        # print \"func\",Vg2k,Vg1k,Vak,t,K,Da,Dg2,a0,n\n",
    "        rv.append(Ia)\n",
    "\n",
    "    return rv\n",
    "\n",
    "popt, pcov = curve_fit(func, x, y,p0=[0.5,0.05,0.05,0.02,5])\n",
    "#print popt,pcov\n",
    "\n",
    "(K,Da,Dg2,a0,n) = popt\n",
    "print \"K   =\",K\n",
    "print \"Da  =\",Da\n",
    "print \"Dg2 =\",Dg2\n",
    "print \"a0  =\",a0\n",
    "print \"n   =\",n\n"
   ]
  },
  {
   "cell_type": "code",
   "execution_count": 5,
   "metadata": {
    "collapsed": false,
    "scrolled": true,
    "slideshow": {
     "slide_type": "slide"
    }
   },
   "outputs": [
    {
     "data": {
      "image/png": "[encoded data removed]",
      "text/plain": [
       "<matplotlib.figure.Figure at 0xaf023c6c>"
      ]
     },
     "metadata": {},
     "output_type": "display_data"
    }
   ],
   "source": [
    "Vg2k = x[0][0]\n",
    "\n",
    "def IaCalc(Vg1k,Vak):\n",
    "    t = Vg1k + Dg2 * Vg2k + Da * Vak\n",
    "    if t > 0:\n",
    "        a = a0 * ((2/pi) * atan(Vak/Vg2k))**(1/n)\n",
    "        Ia = a * K * t**exp\n",
    "    else:\n",
    "        Ia = 0\n",
    "    # print \"IaCalc\",Vgk,Vak,t,Ia\n",
    "    return Ia\n",
    "\n",
    "Vgk = np.linspace(0,-24,7)\n",
    "Vak = np.linspace(0,400,201)\n",
    "\n",
    "vIaCalc = np.vectorize(IaCalc,otypes=[np.float])\n",
    "\n",
    "Ia = vIaCalc(Vgk[:,None],Vak[None,:])\n",
    "\n",
    "plt.figure(figsize=(14,6))\n",
    "\n",
    "for i in range(len(Vgk)):\n",
    "    plt.plot(Vak,Ia[i],label=Vgk[i])\n",
    "\n",
    "plt.scatter(Vaks,y,marker=\"+\")\n",
    "\n",
    "plt.legend(loc='upper left')\n",
    "plt.suptitle('EL34@%dV Child-Langmuir-Compton-VanDerVeen Curve-Fit K/Da/Dg2 Model (Philips 1949)'%Vg2k, fontsize=14, fontweight='bold')\n",
    "plt.grid()\n",
    "plt.ylim((0,0.5))\n",
    "plt.xlim((0,400))\n",
    "plt.show()\n"
   ]
  },
  {
   "cell_type": "code",
   "execution_count": null,
   "metadata": {
    "collapsed": true
   },
   "outputs": [],
   "source": []
  }
 ],
 "metadata": {
  "celltoolbar": "Slideshow",
  "kernelspec": {
   "display_name": "Python 2",
   "language": "python",
   "name": "python2"
  },
  "language_info": {
   "codemirror_mode": {
    "name": "ipython",
    "version": 2
   },
   "file_extension": ".py",
   "mimetype": "text/x-python",
   "name": "python",
   "nbconvert_exporter": "python",
   "pygments_lexer": "ipython2",
   "version": "2.7.11"
  }
 },
 "nbformat": 4,
 "nbformat_minor": 0
}
