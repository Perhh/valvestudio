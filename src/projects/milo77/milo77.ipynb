{
 "cells": [
  {
   "cell_type": "code",
   "execution_count": 18,
   "metadata": {
    "collapsed": false
   },
   "outputs": [
    {
     "data": {
      "text/html": [
       "\n",
       "        <iframe\n",
       "            width=\"700\"\n",
       "            height=\"1000\"\n",
       "            src=\"https://docs.google.com/spreadsheets/d/1VDXSMqPVYYLuDkyzly2UBEbpBGAHBq336GsacR9QOZk/edit?rm=minimal\"\n",
       "            frameborder=\"0\"\n",
       "            allowfullscreen\n",
       "        ></iframe>\n",
       "        "
      ],
      "text/plain": [
       "<IPython.lib.display.IFrame at 0xad51beec>"
      ]
     },
     "execution_count": 18,
     "metadata": {},
     "output_type": "execute_result"
    }
   ],
   "source": [
    "# put your shared google sheet key here\n",
    "gkey = '1VDXSMqPVYYLuDkyzly2UBEbpBGAHBq336GsacR9QOZk'\n",
    "\n",
    "from IPython.display import IFrame\n",
    "url = 'https://docs.google.com/spreadsheets/d/%s/edit?rm=minimal'%gkey\n",
    "IFrame(url,width=700,height=1000)"
   ]
  },
  {
   "cell_type": "code",
   "execution_count": 37,
   "metadata": {
    "collapsed": false
   },
   "outputs": [
    {
     "name": "stdout",
     "output_type": "stream",
     "text": [
      "Ip         =       0.583333\n",
      "VA         =      63.000000\n",
      "Aeff       =       1.159200\n",
      "Np         =     485.734181\n",
      "Ns         =      26.843205\n",
      "NpLayers   =      10.502361\n"
     ]
    }
   ],
   "source": [
    "import milo77\n",
    "reload(milo77)\n",
    "from milo77 import solve\n",
    "solve(gkey)"
   ]
  },
  {
   "cell_type": "code",
   "execution_count": null,
   "metadata": {
    "collapsed": true
   },
   "outputs": [],
   "source": []
  }
 ],
 "metadata": {
  "kernelspec": {
   "display_name": "Python [Root]",
   "language": "python",
   "name": "Python [Root]"
  },
  "language_info": {
   "codemirror_mode": {
    "name": "ipython",
    "version": 2
   },
   "file_extension": ".py",
   "mimetype": "text/x-python",
   "name": "python",
   "nbconvert_exporter": "python",
   "pygments_lexer": "ipython2",
   "version": "2.7.12"
  }
 },
 "nbformat": 4,
 "nbformat_minor": 0
}
